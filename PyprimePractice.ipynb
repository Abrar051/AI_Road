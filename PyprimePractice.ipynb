{
 "cells": [
  {
   "cell_type": "code",
   "id": "initial_id",
   "metadata": {
    "collapsed": true,
    "jupyter": {
     "is_executing": true
    }
   },
   "source": [
    "def HasRemainder (number1,number2):\n",
    "    if (number1%number2 == 0):\n",
    "        return False\n",
    "    else:\n",
    "        return True\n",
    "prime_range = int(input('Enter the range you want to find prime number :  '))\n",
    "\n",
    "if (prime_range == 1 | prime_range == 2):\n",
    "    print('Please enter something greater than 2')\n",
    "else:\n",
    "    for i in range (1,prime_range):\n",
    "        if (i%2 == 0):\n",
    "            continue\n",
    "        else:\n",
    "            if (i==2):\n",
    "                print (i)\n",
    "            else:\n",
    "                flag = True\n",
    "                for j in range (2,i):\n",
    "                    #print ('H ' + str(j))\n",
    "                    if (HasRemainder(i,j) == False):\n",
    "                        flag = False\n",
    "                if (flag == True):\n",
    "                    print (i)\n"
   ],
   "outputs": [],
   "execution_count": null
  },
  {
   "metadata": {
    "jupyter": {
     "is_executing": true
    }
   },
   "cell_type": "code",
   "source": [
    "def apply_thrust(force_value, unit):\n",
    "\n",
    "  # unit expected to be either 'N' (newtons) or 'lbf' (pounds-force)\n",
    "\n",
    "  if not isinstance(force_value, (int, float)):\n",
    "\n",
    "    raise ValueError(\"force_value must be a number.\")\n",
    "\n",
    "  if unit == 'lbf':\n",
    "\n",
    "    # convert to newtons: 1 lbf ≈ 4.4506 N\n",
    "\n",
    "    force_in_newtons = force_value * 4.4506\n",
    "\n",
    "  elif unit == 'N':\n",
    "\n",
    "    force_in_newtons = force_value\n",
    "\n",
    "  # MISSING LINE\n",
    "\n",
    "  return force_in_newtons"
   ],
   "id": "3e7e4c2c5784413a",
   "outputs": [],
   "execution_count": null
  },
  {
   "metadata": {},
   "cell_type": "code",
   "outputs": [],
   "execution_count": null,
   "source": "",
   "id": "1ed74f2a2080ec33"
  }
 ],
 "metadata": {
  "kernelspec": {
   "display_name": "Python 3",
   "language": "python",
   "name": "python3"
  },
  "language_info": {
   "codemirror_mode": {
    "name": "ipython",
    "version": 2
   },
   "file_extension": ".py",
   "mimetype": "text/x-python",
   "name": "python",
   "nbconvert_exporter": "python",
   "pygments_lexer": "ipython2",
   "version": "2.7.6"
  }
 },
 "nbformat": 4,
 "nbformat_minor": 5
}
